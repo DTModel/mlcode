{
 "cells": [
  {
   "cell_type": "code",
   "execution_count": 1,
   "id": "dynamic-floor",
   "metadata": {},
   "outputs": [],
   "source": [
    "import numpy as np\n",
    "import os\n",
    "import pandas as pd\n",
    "import copy\n",
    "import matplotlib.pyplot as plt   \n",
    "import seaborn as sns\n",
    "import psycopg2\n",
    "import pickle\n",
    "from sklearn.svm import SVR\n",
    "import warnings\n",
    "warnings.filterwarnings(\"ignore\")\n"
   ]
  },
  {
   "cell_type": "code",
   "execution_count": 2,
   "id": "overhead-pepper",
   "metadata": {},
   "outputs": [],
   "source": [
    "connection = psycopg2.connect(database=\"edw_dev\", user=\"postgres\", password=\"AocAvalonPG123\", host=\"52.15.157.95\",port=5432)\n",
    "cursor = connection.cursor()"
   ]
  },
  {
   "cell_type": "code",
   "execution_count": 3,
   "id": "concerned-commons",
   "metadata": {},
   "outputs": [
    {
     "data": {
      "text/html": [
       "<div>\n",
       "<style scoped>\n",
       "    .dataframe tbody tr th:only-of-type {\n",
       "        vertical-align: middle;\n",
       "    }\n",
       "\n",
       "    .dataframe tbody tr th {\n",
       "        vertical-align: top;\n",
       "    }\n",
       "\n",
       "    .dataframe thead th {\n",
       "        text-align: right;\n",
       "    }\n",
       "</style>\n",
       "<table border=\"1\" class=\"dataframe\">\n",
       "  <thead>\n",
       "    <tr style=\"text-align: right;\">\n",
       "      <th></th>\n",
       "      <th>unique_case_id</th>\n",
       "      <th>patient_id</th>\n",
       "      <th>order_id</th>\n",
       "      <th>administration_date</th>\n",
       "      <th>gender</th>\n",
       "      <th>age</th>\n",
       "      <th>bmi</th>\n",
       "      <th>cpt_code</th>\n",
       "      <th>inpatient_or_outpatient</th>\n",
       "      <th>procedure_name</th>\n",
       "      <th>attending_physician</th>\n",
       "      <th>drug_name</th>\n",
       "      <th>drug_type</th>\n",
       "      <th>master_procedure</th>\n",
       "      <th>mme_medicationadministrated</th>\n",
       "    </tr>\n",
       "  </thead>\n",
       "  <tbody>\n",
       "    <tr>\n",
       "      <th>0</th>\n",
       "      <td>857405</td>\n",
       "      <td>Z1828886</td>\n",
       "      <td>310196607</td>\n",
       "      <td>15-Nov-17</td>\n",
       "      <td>MALE</td>\n",
       "      <td>64</td>\n",
       "      <td>36.65</td>\n",
       "      <td>27447</td>\n",
       "      <td>Inpatient</td>\n",
       "      <td>ARTHROPLASTY, KNEE</td>\n",
       "      <td>74917</td>\n",
       "      <td>HYDROMORPHONE MGML INJ UMBRELLA</td>\n",
       "      <td>INJ</td>\n",
       "      <td>ARTHROPLASTY, KNEE</td>\n",
       "      <td>2.6</td>\n",
       "    </tr>\n",
       "    <tr>\n",
       "      <th>1</th>\n",
       "      <td>857405</td>\n",
       "      <td>Z1828886</td>\n",
       "      <td>310196607</td>\n",
       "      <td>15-Nov-17</td>\n",
       "      <td>MALE</td>\n",
       "      <td>64</td>\n",
       "      <td>36.65</td>\n",
       "      <td>27447</td>\n",
       "      <td>Inpatient</td>\n",
       "      <td>ARTHROPLASTY, KNEE</td>\n",
       "      <td>74917</td>\n",
       "      <td>HYDROMORPHONE MGML INJ UMBRELLA</td>\n",
       "      <td>INJ</td>\n",
       "      <td>ARTHROPLASTY, KNEE</td>\n",
       "      <td>2.6</td>\n",
       "    </tr>\n",
       "    <tr>\n",
       "      <th>2</th>\n",
       "      <td>857405</td>\n",
       "      <td>Z1828886</td>\n",
       "      <td>310244036</td>\n",
       "      <td>16-Nov-17</td>\n",
       "      <td>MALE</td>\n",
       "      <td>64</td>\n",
       "      <td>36.65</td>\n",
       "      <td>27447</td>\n",
       "      <td>Inpatient</td>\n",
       "      <td>ARTHROPLASTY, KNEE</td>\n",
       "      <td>74917</td>\n",
       "      <td>OXYCODONE MG ORAL TAB</td>\n",
       "      <td>PO</td>\n",
       "      <td>ARTHROPLASTY, KNEE</td>\n",
       "      <td>75.0</td>\n",
       "    </tr>\n",
       "    <tr>\n",
       "      <th>3</th>\n",
       "      <td>857405</td>\n",
       "      <td>Z1828886</td>\n",
       "      <td>310244036</td>\n",
       "      <td>15-Nov-17</td>\n",
       "      <td>MALE</td>\n",
       "      <td>64</td>\n",
       "      <td>36.65</td>\n",
       "      <td>27447</td>\n",
       "      <td>Inpatient</td>\n",
       "      <td>ARTHROPLASTY, KNEE</td>\n",
       "      <td>74917</td>\n",
       "      <td>OXYCODONE MG ORAL TAB</td>\n",
       "      <td>PO</td>\n",
       "      <td>ARTHROPLASTY, KNEE</td>\n",
       "      <td>75.0</td>\n",
       "    </tr>\n",
       "    <tr>\n",
       "      <th>4</th>\n",
       "      <td>857405</td>\n",
       "      <td>Z1828886</td>\n",
       "      <td>310244036</td>\n",
       "      <td>16-Nov-17</td>\n",
       "      <td>MALE</td>\n",
       "      <td>64</td>\n",
       "      <td>36.65</td>\n",
       "      <td>27447</td>\n",
       "      <td>Inpatient</td>\n",
       "      <td>ARTHROPLASTY, KNEE</td>\n",
       "      <td>74917</td>\n",
       "      <td>OXYCODONE MG ORAL TAB</td>\n",
       "      <td>PO</td>\n",
       "      <td>ARTHROPLASTY, KNEE</td>\n",
       "      <td>75.0</td>\n",
       "    </tr>\n",
       "  </tbody>\n",
       "</table>\n",
       "</div>"
      ],
      "text/plain": [
       "   unique_case_id patient_id   order_id administration_date gender  age  \\\n",
       "0          857405   Z1828886  310196607           15-Nov-17   MALE   64   \n",
       "1          857405   Z1828886  310196607           15-Nov-17   MALE   64   \n",
       "2          857405   Z1828886  310244036           16-Nov-17   MALE   64   \n",
       "3          857405   Z1828886  310244036           15-Nov-17   MALE   64   \n",
       "4          857405   Z1828886  310244036           16-Nov-17   MALE   64   \n",
       "\n",
       "     bmi cpt_code inpatient_or_outpatient      procedure_name  \\\n",
       "0  36.65    27447               Inpatient  ARTHROPLASTY, KNEE   \n",
       "1  36.65    27447               Inpatient  ARTHROPLASTY, KNEE   \n",
       "2  36.65    27447               Inpatient  ARTHROPLASTY, KNEE   \n",
       "3  36.65    27447               Inpatient  ARTHROPLASTY, KNEE   \n",
       "4  36.65    27447               Inpatient  ARTHROPLASTY, KNEE   \n",
       "\n",
       "  attending_physician                        drug_name drug_type  \\\n",
       "0               74917  HYDROMORPHONE MGML INJ UMBRELLA       INJ   \n",
       "1               74917  HYDROMORPHONE MGML INJ UMBRELLA       INJ   \n",
       "2               74917            OXYCODONE MG ORAL TAB        PO   \n",
       "3               74917            OXYCODONE MG ORAL TAB        PO   \n",
       "4               74917            OXYCODONE MG ORAL TAB        PO   \n",
       "\n",
       "     master_procedure  mme_medicationadministrated  \n",
       "0  ARTHROPLASTY, KNEE                          2.6  \n",
       "1  ARTHROPLASTY, KNEE                          2.6  \n",
       "2  ARTHROPLASTY, KNEE                         75.0  \n",
       "3  ARTHROPLASTY, KNEE                         75.0  \n",
       "4  ARTHROPLASTY, KNEE                         75.0  "
      ]
     },
     "execution_count": 3,
     "metadata": {},
     "output_type": "execute_result"
    }
   ],
   "source": [
    "data = pd.read_sql_query('select o.unique_case_id,o.patient_id ,o.order_id,o.administration_date ,o.gender ,o.age ,o.bmi ,o.cpt_code ,o.inpatient_or_outpatient ,o.procedure_name ,o.attending_physician ,o.drug_name ,o.drug_type ,p.master_procedure ,o.mme_medicationadministrated from edw_fact.dw_fact_oschner as o left join edw_dim.dw_dim_procedure as p on o.fk_procedure_id = p.procedure_id  ;',con=connection)\n",
    "data.head()"
   ]
  },
  {
   "cell_type": "code",
   "execution_count": 4,
   "id": "durable-fossil",
   "metadata": {},
   "outputs": [
    {
     "data": {
      "text/plain": [
       "(135651, 15)"
      ]
     },
     "execution_count": 4,
     "metadata": {},
     "output_type": "execute_result"
    }
   ],
   "source": [
    "data.shape"
   ]
  },
  {
   "cell_type": "code",
   "execution_count": 5,
   "id": "interpreted-mainstream",
   "metadata": {},
   "outputs": [
    {
     "data": {
      "text/plain": [
       "unique_case_id                     0\n",
       "patient_id                         0\n",
       "order_id                           0\n",
       "administration_date            10252\n",
       "gender                             0\n",
       "age                                0\n",
       "bmi                             1091\n",
       "cpt_code                         753\n",
       "inpatient_or_outpatient            0\n",
       "procedure_name                     0\n",
       "attending_physician                0\n",
       "drug_name                          0\n",
       "drug_type                          0\n",
       "master_procedure                  96\n",
       "mme_medicationadministrated        0\n",
       "dtype: int64"
      ]
     },
     "execution_count": 5,
     "metadata": {},
     "output_type": "execute_result"
    }
   ],
   "source": [
    "data.isna().sum()"
   ]
  },
  {
   "cell_type": "code",
   "execution_count": 6,
   "id": "appreciated-movie",
   "metadata": {},
   "outputs": [
    {
     "data": {
      "text/plain": [
       "(58088, 15)"
      ]
     },
     "execution_count": 6,
     "metadata": {},
     "output_type": "execute_result"
    }
   ],
   "source": [
    "data =  data.dropna()\n",
    "data = data.drop_duplicates()\n",
    "data.shape"
   ]
  },
  {
   "cell_type": "code",
   "execution_count": 7,
   "id": "duplicate-bradford",
   "metadata": {},
   "outputs": [
    {
     "data": {
      "text/plain": [
       "(35821, 15)"
      ]
     },
     "execution_count": 7,
     "metadata": {},
     "output_type": "execute_result"
    }
   ],
   "source": [
    "data = data[data['drug_type']=='PO']\n",
    "data.shape"
   ]
  },
  {
   "cell_type": "code",
   "execution_count": 8,
   "id": "conscious-confirmation",
   "metadata": {},
   "outputs": [
    {
     "data": {
      "text/plain": [
       "420"
      ]
     },
     "execution_count": 8,
     "metadata": {},
     "output_type": "execute_result"
    }
   ],
   "source": [
    "a = list(data[data['bmi'] > 50].index)\n",
    "len(a)"
   ]
  },
  {
   "cell_type": "code",
   "execution_count": 9,
   "id": "deluxe-television",
   "metadata": {},
   "outputs": [],
   "source": [
    "data = data.drop(a)"
   ]
  },
  {
   "cell_type": "code",
   "execution_count": 10,
   "id": "celtic-wireless",
   "metadata": {},
   "outputs": [
    {
     "data": {
      "text/plain": [
       "557"
      ]
     },
     "execution_count": 10,
     "metadata": {},
     "output_type": "execute_result"
    }
   ],
   "source": [
    "b = data[data['mme_medicationadministrated']>300].index\n",
    "len(b)"
   ]
  },
  {
   "cell_type": "code",
   "execution_count": 11,
   "id": "capable-classics",
   "metadata": {},
   "outputs": [
    {
     "data": {
      "text/plain": [
       "(34844, 15)"
      ]
     },
     "execution_count": 11,
     "metadata": {},
     "output_type": "execute_result"
    }
   ],
   "source": [
    "data = data.drop(b)\n",
    "data.shape"
   ]
  },
  {
   "cell_type": "code",
   "execution_count": 12,
   "id": "thirty-perth",
   "metadata": {},
   "outputs": [
    {
     "data": {
      "text/html": [
       "<div>\n",
       "<style scoped>\n",
       "    .dataframe tbody tr th:only-of-type {\n",
       "        vertical-align: middle;\n",
       "    }\n",
       "\n",
       "    .dataframe tbody tr th {\n",
       "        vertical-align: top;\n",
       "    }\n",
       "\n",
       "    .dataframe thead th {\n",
       "        text-align: right;\n",
       "    }\n",
       "</style>\n",
       "<table border=\"1\" class=\"dataframe\">\n",
       "  <thead>\n",
       "    <tr style=\"text-align: right;\">\n",
       "      <th></th>\n",
       "      <th>procedure date</th>\n",
       "      <th>gender</th>\n",
       "      <th>age</th>\n",
       "      <th>bmi</th>\n",
       "      <th>patient_type</th>\n",
       "      <th>physician_name</th>\n",
       "      <th>master_procedure</th>\n",
       "      <th>mme_medication_administrated_perdayavg</th>\n",
       "    </tr>\n",
       "  </thead>\n",
       "  <tbody>\n",
       "    <tr>\n",
       "      <th>2</th>\n",
       "      <td>16-Nov-17</td>\n",
       "      <td>MALE</td>\n",
       "      <td>64</td>\n",
       "      <td>36.65</td>\n",
       "      <td>Inpatient</td>\n",
       "      <td>74917</td>\n",
       "      <td>ARTHROPLASTY, KNEE</td>\n",
       "      <td>75.0</td>\n",
       "    </tr>\n",
       "    <tr>\n",
       "      <th>3</th>\n",
       "      <td>15-Nov-17</td>\n",
       "      <td>MALE</td>\n",
       "      <td>64</td>\n",
       "      <td>36.65</td>\n",
       "      <td>Inpatient</td>\n",
       "      <td>74917</td>\n",
       "      <td>ARTHROPLASTY, KNEE</td>\n",
       "      <td>75.0</td>\n",
       "    </tr>\n",
       "    <tr>\n",
       "      <th>6</th>\n",
       "      <td>15-Nov-17</td>\n",
       "      <td>MALE</td>\n",
       "      <td>64</td>\n",
       "      <td>36.65</td>\n",
       "      <td>Inpatient</td>\n",
       "      <td>74917</td>\n",
       "      <td>ARTHROPLASTY, KNEE</td>\n",
       "      <td>37.5</td>\n",
       "    </tr>\n",
       "    <tr>\n",
       "      <th>13</th>\n",
       "      <td>27-Jun-17</td>\n",
       "      <td>FEMALE</td>\n",
       "      <td>69</td>\n",
       "      <td>24.56</td>\n",
       "      <td>Outpatient</td>\n",
       "      <td>4895</td>\n",
       "      <td>ARTHROPLASTY, KNEE</td>\n",
       "      <td>112.5</td>\n",
       "    </tr>\n",
       "    <tr>\n",
       "      <th>19</th>\n",
       "      <td>28-Jun-17</td>\n",
       "      <td>FEMALE</td>\n",
       "      <td>69</td>\n",
       "      <td>24.56</td>\n",
       "      <td>Outpatient</td>\n",
       "      <td>4895</td>\n",
       "      <td>ARTHROPLASTY, KNEE</td>\n",
       "      <td>112.5</td>\n",
       "    </tr>\n",
       "  </tbody>\n",
       "</table>\n",
       "</div>"
      ],
      "text/plain": [
       "   procedure date  gender  age    bmi patient_type physician_name  \\\n",
       "2       16-Nov-17    MALE   64  36.65    Inpatient          74917   \n",
       "3       15-Nov-17    MALE   64  36.65    Inpatient          74917   \n",
       "6       15-Nov-17    MALE   64  36.65    Inpatient          74917   \n",
       "13      27-Jun-17  FEMALE   69  24.56   Outpatient           4895   \n",
       "19      28-Jun-17  FEMALE   69  24.56   Outpatient           4895   \n",
       "\n",
       "      master_procedure  mme_medication_administrated_perdayavg  \n",
       "2   ARTHROPLASTY, KNEE                                    75.0  \n",
       "3   ARTHROPLASTY, KNEE                                    75.0  \n",
       "6   ARTHROPLASTY, KNEE                                    37.5  \n",
       "13  ARTHROPLASTY, KNEE                                   112.5  \n",
       "19  ARTHROPLASTY, KNEE                                   112.5  "
      ]
     },
     "execution_count": 12,
     "metadata": {},
     "output_type": "execute_result"
    }
   ],
   "source": [
    "df = data[['administration_date','gender','age','bmi','inpatient_or_outpatient','attending_physician','master_procedure','mme_medicationadministrated']]\n",
    "df = df.rename(columns={\"attending_physician\": \"physician_name\",\"mme_medicationadministrated\":\"mme_medication_administrated_perdayavg\",'inpatient_or_outpatient':'patient_type','administration_date':'procedure date'})\n",
    "df.head()"
   ]
  },
  {
   "cell_type": "code",
   "execution_count": 13,
   "id": "suffering-valentine",
   "metadata": {},
   "outputs": [
    {
     "data": {
      "text/plain": [
       "15"
      ]
     },
     "execution_count": 13,
     "metadata": {},
     "output_type": "execute_result"
    }
   ],
   "source": [
    "len(df['master_procedure'].unique())"
   ]
  },
  {
   "cell_type": "code",
   "execution_count": 14,
   "id": "missing-glasgow",
   "metadata": {},
   "outputs": [
    {
     "data": {
      "text/plain": [
       "97"
      ]
     },
     "execution_count": 14,
     "metadata": {},
     "output_type": "execute_result"
    }
   ],
   "source": [
    "len(df['physician_name'].unique())"
   ]
  },
  {
   "cell_type": "code",
   "execution_count": 15,
   "id": "better-sensitivity",
   "metadata": {},
   "outputs": [
    {
     "data": {
      "text/plain": [
       "array(['74917', '4895', '4045', '88242', '686', '40895', '86851', '89860',\n",
       "       '77447', '4722', '74071', '4868', '40816', '5909', '2590', '70865',\n",
       "       '77353', '1956', '3521', '7456', '1887', '73299', '5320', '7523',\n",
       "       '74886', '85360', '78519', '77798', '74906', '4540', '41924',\n",
       "       '84517', '8724', '71217', '83611', '92095', '85323', '86149',\n",
       "       '74799', '75580', '9066', '73799', '98278', '9445', '105013',\n",
       "       '40888', '41578', '89855', '9038', '8455', '2325', '74584', '7249',\n",
       "       '84528', '104172', '86402', '9340', '9314', '42054', '104173',\n",
       "       '9190', '80904', '103501', '103811', '9511', '40893', '1939',\n",
       "       '43038', '89147', '89960', '96154', '108074', '92094', '7521',\n",
       "       '84098', '73435', '84487', '8728', '74677', '42055', '94403',\n",
       "       '75500', '72489', '92358', '90824', '89412', '84865', '74681',\n",
       "       '97550', '79557', '9026', '75579', '41519', '99599', '103500',\n",
       "       '9225', '9238'], dtype=object)"
      ]
     },
     "execution_count": 15,
     "metadata": {},
     "output_type": "execute_result"
    }
   ],
   "source": [
    "df['physician_name'].unique()"
   ]
  },
  {
   "cell_type": "code",
   "execution_count": 16,
   "id": "selective-worst",
   "metadata": {},
   "outputs": [],
   "source": [
    "def data_year(data,doctor,yearr,patient_type):\n",
    "    \n",
    "    A = data[data['physician_name'] == doctor]\n",
    "    A = A[A['patient_type'] == patient_type]\n",
    "    A['procedure date'] = pd.to_datetime(A['procedure date'])\n",
    "    \n",
    "    year = []\n",
    "    month = []\n",
    "    for i in A['procedure date']:\n",
    "        a = i.year\n",
    "        b = i.month\n",
    "        year.append(a)\n",
    "        month.append(b)\n",
    "    A['Year'] = year\n",
    "    A['Month'] = month\n",
    "    \n",
    "    B = A[A['Year'] == yearr]\n",
    "    \n",
    "    lowwer = []\n",
    "    higher = []\n",
    "    mediumm = []\n",
    "    Month = []\n",
    "    for i in list(range(1,13,1)):\n",
    "        C =  B[B['Month'] == i].reset_index()\n",
    "        Month.append(i)\n",
    "        low = []\n",
    "        medium = []\n",
    "        high = []\n",
    "        for j in range(C.shape[0]):\n",
    "            if C['mme_medication_administrated_perdayavg'][j] < 50:\n",
    "                low.append(C['mme_medication_administrated_perdayavg'][j])\n",
    "            \n",
    "            elif C['mme_medication_administrated_perdayavg'][j] < 100 and C['mme_medication_administrated_perdayavg'][j] > 50:\n",
    "                medium.append(C['mme_medication_administrated_perdayavg'][j])\n",
    "            \n",
    "            else:\n",
    "                high.append(C['mme_medication_administrated_perdayavg'][j])\n",
    "        \n",
    "        lowwer.append(len(low)/C.shape[0]*100 if len(low) != 0 else 0)\n",
    "        mediumm.append(len(medium)/C.shape[0]*100 if len(low) != 0 else 0)\n",
    "        higher.append(len(high)/C.shape[0]*100 if len(low) != 0 else 0)\n",
    "    \n",
    "    \n",
    "    df = pd.DataFrame({'Month':Month,'Low':lowwer,'medium':mediumm,'high':higher})\n",
    "    \n",
    "    df['Month'].replace([1,2,3,4,5,6,7,8,9,10,11,12],['January','February','March','April','May','June','July','August','September','October','November','December'],inplace=True)\n",
    "    \n",
    "    ax = df.plot(x=\"Month\", y=[\"Low\",\"medium\",\"high\"], kind=\"bar\",figsize=(15,5))\n",
    "    "
   ]
  },
  {
   "cell_type": "code",
   "execution_count": 17,
   "id": "dangerous-hardwood",
   "metadata": {},
   "outputs": [
    {
     "data": {
      "image/png": "[encoded data removed]",
      "text/plain": [
       "<Figure size 1080x360 with 1 Axes>"
      ]
     },
     "metadata": {
      "needs_background": "light"
     },
     "output_type": "display_data"
    }
   ],
   "source": [
    "data_year(df,'1956',2018,'Inpatient')"
   ]
  },
  {
   "cell_type": "code",
   "execution_count": 18,
   "id": "dramatic-durham",
   "metadata": {},
   "outputs": [
    {
     "data": {
      "image/png": "[encoded data removed]",
      "text/plain": [
       "<Figure size 1080x360 with 1 Axes>"
      ]
     },
     "metadata": {
      "needs_background": "light"
     },
     "output_type": "display_data"
    }
   ],
   "source": [
    "data_year(df,'9511',2020,'Inpatient')"
   ]
  },
  {
   "cell_type": "code",
   "execution_count": 19,
   "id": "metropolitan-fitness",
   "metadata": {},
   "outputs": [
    {
     "data": {
      "image/png": "[encoded data removed]",
      "text/plain": [
       "<Figure size 1080x360 with 1 Axes>"
      ]
     },
     "metadata": {
      "needs_background": "light"
     },
     "output_type": "display_data"
    }
   ],
   "source": [
    "data_year(df,'77447',2018,'Inpatient')"
   ]
  },
  {
   "cell_type": "code",
   "execution_count": null,
   "id": "corporate-terminology",
   "metadata": {},
   "outputs": [],
   "source": []
  },
  {
   "cell_type": "code",
   "execution_count": null,
   "id": "superior-shannon",
   "metadata": {},
   "outputs": [],
   "source": []
  },
  {
   "cell_type": "code",
   "execution_count": null,
   "id": "fatty-throw",
   "metadata": {},
   "outputs": [],
   "source": []
  },
  {
   "cell_type": "code",
   "execution_count": null,
   "id": "removed-links",
   "metadata": {},
   "outputs": [],
   "source": []
  },
  {
   "cell_type": "code",
   "execution_count": null,
   "id": "subsequent-expense",
   "metadata": {},
   "outputs": [],
   "source": []
  },
  {
   "cell_type": "code",
   "execution_count": null,
   "id": "happy-programmer",
   "metadata": {},
   "outputs": [],
   "source": []
  },
  {
   "cell_type": "code",
   "execution_count": null,
   "id": "lasting-bhutan",
   "metadata": {},
   "outputs": [],
   "source": []
  },
  {
   "cell_type": "code",
   "execution_count": null,
   "id": "chronic-instrument",
   "metadata": {},
   "outputs": [],
   "source": []
  },
  {
   "cell_type": "code",
   "execution_count": null,
   "id": "parliamentary-progressive",
   "metadata": {},
   "outputs": [],
   "source": []
  }
 ],
 "metadata": {
  "kernelspec": {
   "display_name": "Python 3",
   "language": "python",
   "name": "python3"
  },
  "language_info": {
   "codemirror_mode": {
    "name": "ipython",
    "version": 3
   },
   "file_extension": ".py",
   "mimetype": "text/x-python",
   "name": "python",
   "nbconvert_exporter": "python",
   "pygments_lexer": "ipython3",
   "version": "3.9.2"
  }
 },
 "nbformat": 4,
 "nbformat_minor": 5
}
