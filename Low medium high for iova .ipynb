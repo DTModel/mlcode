{
 "cells": [
  {
   "cell_type": "code",
   "execution_count": 1,
   "id": "material-amber",
   "metadata": {},
   "outputs": [],
   "source": [
    "import numpy as np\n",
    "import os\n",
    "import pandas as pd\n",
    "import copy\n",
    "import matplotlib.pyplot as plt   \n",
    "import seaborn as sns\n",
    "import psycopg2\n",
    "import pickle\n",
    "from sklearn.svm import SVR\n",
    "import warnings\n",
    "warnings.filterwarnings(\"ignore\")"
   ]
  },
  {
   "cell_type": "code",
   "execution_count": 2,
   "id": "proprietary-margin",
   "metadata": {},
   "outputs": [],
   "source": [
    "connection = psycopg2.connect(database=\"edw_dev\", user=\"postgres\", password=\"AocAvalonPG123\", host=\"52.15.157.95\",port=5432)\n",
    "cursor = connection.cursor()"
   ]
  },
  {
   "cell_type": "code",
   "execution_count": 3,
   "id": "blocked-heritage",
   "metadata": {},
   "outputs": [
    {
     "data": {
      "text/html": [
       "<div>\n",
       "<style scoped>\n",
       "    .dataframe tbody tr th:only-of-type {\n",
       "        vertical-align: middle;\n",
       "    }\n",
       "\n",
       "    .dataframe tbody tr th {\n",
       "        vertical-align: top;\n",
       "    }\n",
       "\n",
       "    .dataframe thead th {\n",
       "        text-align: right;\n",
       "    }\n",
       "</style>\n",
       "<table border=\"1\" class=\"dataframe\">\n",
       "  <thead>\n",
       "    <tr style=\"text-align: right;\">\n",
       "      <th></th>\n",
       "      <th>procedure date</th>\n",
       "      <th>gender</th>\n",
       "      <th>master_procedure</th>\n",
       "      <th>patient_type</th>\n",
       "      <th>physician_name</th>\n",
       "      <th>age</th>\n",
       "      <th>bmi</th>\n",
       "      <th>mme_medication_administrated_perdayavg</th>\n",
       "    </tr>\n",
       "  </thead>\n",
       "  <tbody>\n",
       "    <tr>\n",
       "      <th>0</th>\n",
       "      <td>2018-02-08</td>\n",
       "      <td>M</td>\n",
       "      <td>ARTHROSCOPY</td>\n",
       "      <td>OUT PATIENT</td>\n",
       "      <td>WOLF, BRIAN R</td>\n",
       "      <td>41</td>\n",
       "      <td>36.44</td>\n",
       "      <td>12.00</td>\n",
       "    </tr>\n",
       "    <tr>\n",
       "      <th>1</th>\n",
       "      <td>2018-04-10</td>\n",
       "      <td>F</td>\n",
       "      <td>ARTHROSCOPY SHOULDER</td>\n",
       "      <td>IN-PATIENT</td>\n",
       "      <td>PATTERSON, BRENDAN M</td>\n",
       "      <td>69</td>\n",
       "      <td>37.51</td>\n",
       "      <td>45.00</td>\n",
       "    </tr>\n",
       "    <tr>\n",
       "      <th>2</th>\n",
       "      <td>2018-07-31</td>\n",
       "      <td>M</td>\n",
       "      <td>ARTHROSCOPY</td>\n",
       "      <td>OUT PATIENT</td>\n",
       "      <td>BOLLIER, MATTHEW J</td>\n",
       "      <td>63</td>\n",
       "      <td>38.02</td>\n",
       "      <td>30.34</td>\n",
       "    </tr>\n",
       "    <tr>\n",
       "      <th>3</th>\n",
       "      <td>2019-12-31</td>\n",
       "      <td>M</td>\n",
       "      <td>ARTHROPLASTY</td>\n",
       "      <td>OUT PATIENT</td>\n",
       "      <td>NOISEUX, NICOLAS O</td>\n",
       "      <td>65</td>\n",
       "      <td>31.68</td>\n",
       "      <td>53.83</td>\n",
       "    </tr>\n",
       "    <tr>\n",
       "      <th>4</th>\n",
       "      <td>2019-12-03</td>\n",
       "      <td>M</td>\n",
       "      <td>ARTHROSCOPY SHOULDER</td>\n",
       "      <td>OUT PATIENT</td>\n",
       "      <td>BOLLIER, MATTHEW J</td>\n",
       "      <td>61</td>\n",
       "      <td>24.91</td>\n",
       "      <td>30.00</td>\n",
       "    </tr>\n",
       "  </tbody>\n",
       "</table>\n",
       "</div>"
      ],
      "text/plain": [
       "  procedure date gender      master_procedure patient_type  \\\n",
       "0     2018-02-08      M           ARTHROSCOPY  OUT PATIENT   \n",
       "1     2018-04-10      F  ARTHROSCOPY SHOULDER   IN-PATIENT   \n",
       "2     2018-07-31      M           ARTHROSCOPY  OUT PATIENT   \n",
       "3     2019-12-31      M          ARTHROPLASTY  OUT PATIENT   \n",
       "4     2019-12-03      M  ARTHROSCOPY SHOULDER  OUT PATIENT   \n",
       "\n",
       "         physician_name  age    bmi  mme_medication_administrated_perdayavg  \n",
       "0         WOLF, BRIAN R   41  36.44                                   12.00  \n",
       "1  PATTERSON, BRENDAN M   69  37.51                                   45.00  \n",
       "2    BOLLIER, MATTHEW J   63  38.02                                   30.34  \n",
       "3    NOISEUX, NICOLAS O   65  31.68                                   53.83  \n",
       "4    BOLLIER, MATTHEW J   61  24.91                                   30.00  "
      ]
     },
     "execution_count": 3,
     "metadata": {},
     "output_type": "execute_result"
    }
   ],
   "source": [
    "data1 = pd.read_sql_query('select edw_fact.mme_details.\"procedure date\",edw_src.patient_info.gender,edw_fact.mme_details.master_procedure,edw_fact.mme_details.patient_type,edw_fact.mme_details.physician_name,edw_fact.mme_details.age,edw_fact.mme_details.bmi,edw_fact.mme_details.mme_medication_administrated_perdayavg from edw_fact.mme_details full outer join edw_src.patient_info on edw_fact.mme_details.unique_opd_id = edw_src.patient_info.procedure_id;',con=connection)\n",
    "data1 = data1.replace('INPATIENT','IN-PATIENT')\n",
    "data1.head()"
   ]
  },
  {
   "cell_type": "code",
   "execution_count": 4,
   "id": "medium-shopping",
   "metadata": {},
   "outputs": [
    {
     "data": {
      "text/plain": [
       "(11472, 8)"
      ]
     },
     "execution_count": 4,
     "metadata": {},
     "output_type": "execute_result"
    }
   ],
   "source": [
    "data1 =  data1.dropna()\n",
    "data1 = data1.drop_duplicates()\n",
    "data1.shape"
   ]
  },
  {
   "cell_type": "code",
   "execution_count": 5,
   "id": "solved-commodity",
   "metadata": {},
   "outputs": [
    {
     "data": {
      "text/plain": [
       "(11269, 8)"
      ]
     },
     "execution_count": 5,
     "metadata": {},
     "output_type": "execute_result"
    }
   ],
   "source": [
    "a = list(data1[data1['bmi'] > 50].index)\n",
    "data1 = data1.drop(a)\n",
    "data1.shape"
   ]
  },
  {
   "cell_type": "code",
   "execution_count": 6,
   "id": "innovative-jenny",
   "metadata": {},
   "outputs": [],
   "source": [
    "def data_year(data,doctor,yearr,patient_type):\n",
    "    \n",
    "    A = data[data['physician_name'] == doctor]\n",
    "    A = A[A['patient_type'] == patient_type]\n",
    "    A['procedure date'] = pd.to_datetime(A['procedure date'])\n",
    "    \n",
    "    year = []\n",
    "    month = []\n",
    "    for i in A['procedure date']:\n",
    "        a = i.year\n",
    "        b = i.month\n",
    "        year.append(a)\n",
    "        month.append(b)\n",
    "    A['Year'] = year\n",
    "    A['Month'] = month\n",
    "    \n",
    "    B = A[A['Year'] == yearr]\n",
    "    \n",
    "    lowwer = []\n",
    "    higher = []\n",
    "    mediumm = []\n",
    "    Month = []\n",
    "    for i in list(range(1,13,1)):\n",
    "        C =  B[B['Month'] == i].reset_index()\n",
    "        Month.append(i)\n",
    "        low = []\n",
    "        medium = []\n",
    "        high = []\n",
    "        for j in range(C.shape[0]):\n",
    "            if C['mme_medication_administrated_perdayavg'][j] < 50:\n",
    "                low.append(C['mme_medication_administrated_perdayavg'][j])\n",
    "            \n",
    "            elif C['mme_medication_administrated_perdayavg'][j] < 100 and C['mme_medication_administrated_perdayavg'][j] > 50:\n",
    "                medium.append(C['mme_medication_administrated_perdayavg'][j])\n",
    "            \n",
    "            else:\n",
    "                high.append(C['mme_medication_administrated_perdayavg'][j])\n",
    "        \n",
    "        lowwer.append(len(low)/C.shape[0]*100 if len(low) != 0 else 0)\n",
    "        mediumm.append(len(medium)/C.shape[0]*100 if len(low) != 0 else 0)\n",
    "        higher.append(len(high)/C.shape[0]*100 if len(low) != 0 else 0)\n",
    "    \n",
    "    \n",
    "    df = pd.DataFrame({'Month':Month,'Low':lowwer,'medium':mediumm,'high':higher})\n",
    "    \n",
    "    df['Month'].replace([1,2,3,4,5,6,7,8,9,10,11,12],['January','February','March','April','May','June','July','August','September','October','November','December'],inplace=True)\n",
    "    \n",
    "    ax = df.plot(x=\"Month\", y=[\"Low\",\"medium\",\"high\"], kind=\"bar\",figsize=(15,5))\n",
    "    "
   ]
  },
  {
   "cell_type": "code",
   "execution_count": 7,
   "id": "mathematical-brook",
   "metadata": {},
   "outputs": [
    {
     "data": {
      "image/png": "[encoded data removed]",
      "text/plain": [
       "<Figure size 1080x360 with 1 Axes>"
      ]
     },
     "metadata": {
      "needs_background": "light"
     },
     "output_type": "display_data"
    }
   ],
   "source": [
    "data_year(data1,'WOLF, BRIAN R',2020,'IN-PATIENT')"
   ]
  },
  {
   "cell_type": "code",
   "execution_count": 8,
   "id": "thirty-hungary",
   "metadata": {},
   "outputs": [
    {
     "data": {
      "image/png": "[encoded data removed]",
      "text/plain": [
       "<Figure size 1080x360 with 1 Axes>"
      ]
     },
     "metadata": {
      "needs_background": "light"
     },
     "output_type": "display_data"
    }
   ],
   "source": [
    "data_year(data1,'PATTERSON, BRENDAN M',2020,'IN-PATIENT')"
   ]
  },
  {
   "cell_type": "code",
   "execution_count": 9,
   "id": "north-factory",
   "metadata": {},
   "outputs": [
    {
     "data": {
      "image/png": "[encoded data removed]",
      "text/plain": [
       "<Figure size 1080x360 with 1 Axes>"
      ]
     },
     "metadata": {
      "needs_background": "light"
     },
     "output_type": "display_data"
    }
   ],
   "source": [
    "data_year(data1,'PATTERSON, BRENDAN M',2020,'OUT PATIENT')"
   ]
  },
  {
   "cell_type": "code",
   "execution_count": null,
   "id": "adjustable-california",
   "metadata": {},
   "outputs": [],
   "source": []
  }
 ],
 "metadata": {
  "kernelspec": {
   "display_name": "Python 3",
   "language": "python",
   "name": "python3"
  },
  "language_info": {
   "codemirror_mode": {
    "name": "ipython",
    "version": 3
   },
   "file_extension": ".py",
   "mimetype": "text/x-python",
   "name": "python",
   "nbconvert_exporter": "python",
   "pygments_lexer": "ipython3",
   "version": "3.9.2"
  }
 },
 "nbformat": 4,
 "nbformat_minor": 5
}
